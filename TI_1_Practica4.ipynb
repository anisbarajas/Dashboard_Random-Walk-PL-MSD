{
 "cells": [
  {
   "cell_type": "markdown",
   "metadata": {
    "id": "bbeb0c1e"
   },
   "source": [
    "# Práctica 4\n",
    "\n",
    "**Nombre:** Anahí Barajas Pérez  \n",
    "**e-mail:** anahi.barajas2412@alumnos.udg.mx"
   ]
  },
  {
   "cell_type": "markdown",
   "metadata": {
    "id": "a31326d0"
   },
   "source": [
    "## MODULES"
   ]
  },
  {
   "cell_type": "code",
   "execution_count": null,
   "metadata": {
    "id": "9c33a472"
   },
   "outputs": [],
   "source": [
    "import panel as pn\n",
    "import panel.widgets as pnw\n",
    "import holoviews as hv\n",
    "from holoviews import opts\n",
    "pn.extension(sizing_mode = 'stretch_width')\n",
    "hv.extension('plotly')\n",
    "\n",
    "#pn.extension('plotly',raw_css=[css])\n",
    "\n",
    "import pandas as pd\n",
    "import numpy as np\n",
    "\n",
    "import plotly.graph_objects as go\n",
    "\n",
    "import math\n",
    "from pymunk import Vec2d\n"
   ]
  },
  {
   "cell_type": "markdown",
   "metadata": {
    "id": "680109c9"
   },
   "source": [
    "## FUNCTIONS"
   ]
  },
  {
   "cell_type": "code",
   "execution_count": null,
   "metadata": {},
   "outputs": [],
   "source": [
    "def bm_2d(n_steps=1000,speed=6,s_x_pos=0,s_y_pos=0):\n",
    "  '''\n",
    "  Arguments:\n",
    "    n_steps:\n",
    "    speed:\n",
    "    s_pos:\n",
    "  Returns:\n",
    "    BM_2d_df:\n",
    "  '''\n",
    "  #Init Vector\n",
    "  velocity = Vec2d(speed,0)\n",
    "\n",
    "  BM_2d_df = pd.DataFrame(columns = ['x_pos','y_pos'])\n",
    "  temp_df = pd.DataFrame([{'x_pos': s_x_pos, 'y_pos': s_y_pos}])\n",
    "  BM_2d_df = pd.concat([BM_2d_df, temp_df],ignore_index=True)\n",
    "\n",
    "  for i in range(n_steps - 1):\n",
    "    turn_angle = np.random.uniform(low=-np.pi,high=np.pi)\n",
    "    velocity = velocity.rotated(turn_angle)\n",
    "\n",
    "    temp_df = pd.DataFrame([{'x_pos': BM_2d_df.x_pos[i]+velocity.x, 'y_pos': BM_2d_df.y_pos[i]+velocity.y}])\n",
    "    BM_2d_df = pd.concat([BM_2d_df, temp_df], ignore_index = True)\n",
    "\n",
    "  #Return dataframe\n",
    "  return BM_2d_df"
   ]
  },
  {
   "cell_type": "code",
   "execution_count": null,
   "metadata": {
    "id": "147f549b"
   },
   "outputs": [],
   "source": [
    "radioTrajType = pnw.RadioButtonGroup(\n",
    "    name='Trajectorie Type', options=['BM', 'CRW', 'LF'], button_type='primary')\n",
    "\n",
    "@pn.depends(radioTrajType)\n",
    "def display_RadioTraj(radioTrajType):\n",
    "  return radioTrajType\n",
    "\n",
    "stepSlider = pnw.IntSlider(name='Number of steps', value = 1000, start=100, end=5000, step = 100)\n",
    "\n",
    "@pn.depends(stepSlider)\n",
    "def display_StepSlider(stepSlider):\n",
    "  return stepSlider\n",
    "\n",
    "xInput = pnw.IntInput(name = 'X intial position', value = 0, step=1, start=0, end=200)\n",
    "\n",
    "@pn.depends(xInput)\n",
    "def display_xInput(xInput):\n",
    "  return xInput\n",
    "\n",
    "yInput = pnw.IntInput(name = 'Y intial position', value = 0, step=1, start=0, end=200)\n",
    "\n",
    "@pn.depends(yInput)\n",
    "def display_yInput(yInput):\n",
    "  return yInput\n",
    "\n",
    "speedSlider = pnw.IntSlider(name='Speed', value = 3, step = 1, start = 1, end = 20, sizing_mode='stretch_width')\n",
    "\n",
    "@pn.depends(speedSlider)\n",
    "def display_SpeedSlider(speedSlider):\n",
    "  return speedSlider\n",
    "\n",
    "metricSelect = pnw.Select(name='Metric Type', options=['MSD','PL'], sizing_mode='stretch_width')\n",
    "\n",
    "@pn.depends(metricSelect)\n",
    "def display_MetricSelect(metricSelect):\n",
    "  return metricSelect"
   ]
  },
  {
   "cell_type": "code",
   "execution_count": null,
   "metadata": {},
   "outputs": [],
   "source": [
    "@pn.depends(stepSlider=stepSlider, speedSlider=speedSlider, xInput=xInput, yInput=yInput)\n",
    "def plot_traj(stepSlider, speedSlider, xInput, yInput):\n",
    "        \n",
    "    rw_df = bm_2d(n_steps=stepSlider, speed=speedSlider, s_x_pos=xInput, s_y_pos=yInput)\n",
    "    \n",
    "    fig_traj_rw = go.Figure(layout=dict(title='Browninan Motion trajectory'+f'steps = {stepSlider}', height=600))\n",
    "    fig_traj_rw.add_trace(\n",
    "        go.Scatter3d(\n",
    "            x=rw_df.x_pos,\n",
    "            y=rw_df.y_pos,\n",
    "            z=rw_df.index,\n",
    "            line_width=2,\n",
    "            line_color='#D19D01',\n",
    "            mode = 'lines',\n",
    "            name = f'steps = {stepSlider}'\n",
    "        )\n",
    "    )\n",
    "    return fig_traj_rw"
   ]
  },
  {
   "cell_type": "code",
   "execution_count": null,
   "metadata": {},
   "outputs": [],
   "source": [
    "bootstrap = pn.template.BootstrapTemplate(title='Random Walk Metrics: Path Length/MSD'\n",
    "                                          ,sidebar_width = 220\n",
    "                                          ,header_background='#00504C')\n",
    "logo = 'https://panel.holoviz.org/_static/logo_horizontal.png'\n",
    "\n",
    "bootstrap.sidebar.append(radioTrajType)\n",
    "bootstrap.sidebar.append(stepSlider)\n",
    "bootstrap.sidebar.append(xInput)\n",
    "bootstrap.sidebar.append(yInput)\n",
    "bootstrap.sidebar.append(speedSlider)\n",
    "bootstrap.sidebar.append(metricSelect)\n",
    "\n",
    "\n",
    "bootstrap.main.append(\n",
    "    pn.Row(\n",
    "        pn.Card(plot_traj, title='Plot Trajectory'),\n",
    "        pn.Card(plot_traj, title='Plot Trajectory')\n",
    "    )\n",
    ")\n",
    "\n",
    "bootstrap.show();"
   ]
  },
  {
   "cell_type": "code",
   "execution_count": null,
   "metadata": {},
   "outputs": [],
   "source": []
  }
 ],
 "metadata": {
  "colab": {
   "provenance": []
  },
  "kernelspec": {
   "display_name": "Python 3",
   "language": "python",
   "name": "python3"
  },
  "language_info": {
   "codemirror_mode": {
    "name": "ipython",
    "version": 3
   },
   "file_extension": ".py",
   "mimetype": "text/x-python",
   "name": "python",
   "nbconvert_exporter": "python",
   "pygments_lexer": "ipython3",
   "version": "3.7.6"
  }
 },
 "nbformat": 4,
 "nbformat_minor": 5
}

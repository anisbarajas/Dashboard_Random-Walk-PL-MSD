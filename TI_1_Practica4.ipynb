{
 "cells": [
  {
   "cell_type": "markdown",
   "metadata": {
    "id": "bbeb0c1e"
   },
   "source": [
    "# Práctica 4\n",
    "\n",
    "**Nombre:** Anahí Barajas Pérez  \n",
    "**e-mail:** anahi.barajas2412@alumnos.udg.mx"
   ]
  },
  {
   "cell_type": "markdown",
   "metadata": {
    "id": "a31326d0"
   },
   "source": [
    "## MODULES"
   ]
  },
  {
   "cell_type": "code",
   "execution_count": null,
   "metadata": {
    "id": "9c33a472"
   },
   "outputs": [],
   "source": [
    "import panel as pn\n",
    "import panel.widgets as pnw\n",
    "import holoviews as hv\n",
    "from holoviews import opts\n",
    "pn.extension(sizing_mode = 'stretch_width')\n",
    "hv.extension('plotly')\n",
    "\n",
    "import pandas as pd\n",
    "import numpy as np\n",
    "\n",
    "from plotly.subplots import make_subplots\n",
    "import plotly.graph_objects as go\n",
    "\n",
    "import math\n",
    "from pymunk import Vec2d\n",
    "from scipy.stats import wrapcauchy\n",
    "from scipy.stats import levy_stable\n"
   ]
  },
  {
   "cell_type": "markdown",
   "metadata": {
    "id": "680109c9"
   },
   "source": [
    "## FUNCTIONS"
   ]
  },
  {
   "cell_type": "code",
   "execution_count": null,
   "metadata": {},
   "outputs": [],
   "source": [
    "def BM_2d(n_steps=1000,speed=6,s_x_pos=0,s_y_pos=0):\n",
    "    '''\n",
    "    Arguments:\n",
    "        n_steps:\n",
    "        speed:\n",
    "        s_pos:\n",
    "    Returns:\n",
    "        BM_2d_df:\n",
    "      '''\n",
    "    #Init Vector\n",
    "    velocity = Vec2d(speed,0)\n",
    "\n",
    "    BM_2d_df = pd.DataFrame(columns = ['x_pos','y_pos'])\n",
    "    temp_df = pd.DataFrame([{'x_pos': s_x_pos, 'y_pos': s_y_pos}])\n",
    "    BM_2d_df = pd.concat([BM_2d_df, temp_df],ignore_index=True)\n",
    "\n",
    "    for i in range(n_steps - 1):\n",
    "        turn_angle = np.random.uniform(low=-np.pi,high=np.pi)\n",
    "        velocity = velocity.rotated(turn_angle)\n",
    "\n",
    "        temp_df = pd.DataFrame([{'x_pos': BM_2d_df.x_pos[i]+velocity.x, 'y_pos': BM_2d_df.y_pos[i]+velocity.y}])\n",
    "        BM_2d_df = pd.concat([BM_2d_df, temp_df], ignore_index = True)\n",
    "\n",
    "    #Return dataframe\n",
    "    return BM_2d_df"
   ]
  },
  {
   "cell_type": "code",
   "execution_count": null,
   "metadata": {},
   "outputs": [],
   "source": [
    "def CRW_2d(n_steps=1000,speed=6,s_x_pos=0,s_y_pos=0,crw_exponent=0.3):      \n",
    "    '''\n",
    "    Arguments:\n",
    "        n_steps:\n",
    "        speed:\n",
    "        s_pos:\n",
    "        crw_exponent:\n",
    "    Returns:\n",
    "        CRW_2d_df:\n",
    "    '''\n",
    "    # Init velocity vector \n",
    "    velocity = Vec2d(speed,0)\n",
    "    \n",
    "    # Generate turn angles \n",
    "    rv = wrapcauchy.rvs(crw_exponent, size=n_steps)\n",
    "\n",
    "    #Init DataFrame\n",
    "    CRW_2d_df = pd.DataFrame([{'x_pos':s_x_pos, 'y_pos':s_y_pos }])\n",
    "\n",
    "    for i in range(n_steps-1):    \n",
    "        velocity = velocity.rotated(rv[i])\n",
    "        CRW_2d_df = pd.concat([CRW_2d_df,pd.DataFrame([{'x_pos': CRW_2d_df.x_pos[i]+velocity.x, 'y_pos': CRW_2d_df.y_pos[i]+velocity.y}])], ignore_index = True)\n",
    "    \n",
    "    #Return dataframe\n",
    "    return CRW_2d_df"
   ]
  },
  {
   "cell_type": "code",
   "execution_count": null,
   "metadata": {},
   "outputs": [],
   "source": [
    "def rwMetrics(traj_df, selMetric):\n",
    "    '''\n",
    "    Arguments:\n",
    "        traj_df: Trajectory dataframe\n",
    "        selMetric: Selected metric\n",
    "    Return:\n",
    "        metric_df: Metric dataframe\n",
    "    '''\n",
    "    # BM speed = 3\n",
    "    vec_aux = np.empty(0)\n",
    "    \n",
    "    if selMetric == 'PL':   \n",
    "        for i in range(1,len(traj_df)):\n",
    "            dis = np.sqrt(np.square((traj_df.x_pos[i] - traj_df.x_pos[i-1])) + np.square((traj_df.y_pos[i] - traj_df.y_pos[i-1])))\n",
    "            vec_aux = np.append(vec_aux,dis)\n",
    "\n",
    "        pl_cumsum = np.cumsum(vec_aux)\n",
    "        metric_df = pd.DataFrame(pl_cumsum, columns=['M']) # Saving metrics in DataFrame\n",
    "        \n",
    "    else:\n",
    "        for n in range(1,len(traj_df)):\n",
    "            msd = np.mean(np.array([np.square(np.sqrt(np.square((traj_df.x_pos[j] - traj_df.x_pos[j-n])) + np.square((traj_df.y_pos[j] - traj_df.y_pos[j-n])))) for j in range(n,len(traj_df))]))\n",
    "            msd_arr = np.append(vec_aux,msd)\n",
    "\n",
    "        metric_df = pd.DataFrame(vec_aux, columns=['M'])    \n",
    "        \n",
    "    #Return dataframe\n",
    "    return metric_df"
   ]
  },
  {
   "cell_type": "code",
   "execution_count": null,
   "metadata": {
    "id": "147f549b"
   },
   "outputs": [],
   "source": [
    "rTrajTyp = pnw.RadioButtonGroup(name='Trajectorie Type', options=['BM', 'CRW', 'LF'], value='CRW', button_type='primary')\n",
    "slStep = pnw.IntSlider(name='Number of steps', value = 1000, start=1000, end=10000, step = 1000)\n",
    "xInput = pnw.IntInput(name = 'X intial position', value = 0, start=0, end=200)\n",
    "yInput = pnw.IntInput(name = 'Y intial position', value = 0, start=0, end=200)\n",
    "slSpeed = pnw.IntSlider(name='Speed', value = 3, start = 1, end = 10, sizing_mode='stretch_width')\n",
    "selMetric = pnw.Select(name='Metric Type', options=['MSD','PL'], value = 'PL', sizing_mode='stretch_width')\n",
    "slCRW = pnw.FloatSlider(name='CRW Exponent', value = 0.3, start = 0, end = 1, sizing_mode='stretch_width')\n",
    "slLevyA = pnw.FloatSlider(name='Lévy α', value = 0.3, start = 0, end = 2, sizing_mode='stretch_width')\n",
    "slLevyB = pnw.FloatSlider(name='Lévy β', value = 0, start = -1, end = 1, sizing_mode='stretch_width')\n",
    "\n",
    "@pn.depends(rTrajTyp)\n",
    "def dCRWSlider(rTrajType):\n",
    "    if rTrajType != 'BM':\n",
    "        slCRW.visible = True\n",
    "    else:\n",
    "        slCRW.visible = False\n",
    "\n",
    "    return slCRW\n",
    "\n",
    "@pn.depends(rTrajTyp)\n",
    "def dLevyASlider(rTrajTyp):\n",
    "    return slLevyA\n",
    "\n",
    "@pn.depends(rTrajTyp)\n",
    "def dLevySlider(rTrajTyp):\n",
    "    n=pn.GridBox(dLevyASlider,slLevyB,ncols=1)\n",
    "    if rTrajTyp == 'LF':\n",
    "        n.visible = True\n",
    "    else:\n",
    "        n.visible = False\n",
    "    return n\n",
    "\n",
    "@pn.depends(slStep=slStep, slSpeed=slSpeed, xInput=xInput, yInput=yInput, slCRW=slCRW,selMetric=selMetric)\n",
    "def dSpecs(slStep, slSpeed, xInput, yInput, slCRW,selMetric):\n",
    "    text = 'Steps: **'+str(slStep)+'** Speed: **'+str(slSpeed)+'** Initial Position: ['+str(xInput)+','+str(yInput)+']'\n",
    "    return pn.pane.Markdown(text)\n",
    "\n",
    "@pn.depends(rTrajTyp=rTrajTyp,slStep=slStep, slSpeed=slSpeed, xInput=xInput, yInput=yInput, slCRW=slCRW,selMetric=selMetric)\n",
    "def dTitle(rTrajTyp, slStep, slSpeed, xInput, yInput, slCRW,selMetric):\n",
    "    \n",
    "    if rTrajTyp == 'BM':   \n",
    "        tTyp = 'Brownian Motion'\n",
    "    elif rTrajTyp == 'CRW':\n",
    "        tTyp = 'Correlated Random Walk'\n",
    "    elif rTrajTyp == 'LF':\n",
    "        tTyp = 'Lévy Flight'\n",
    "    \n",
    "    text = '#### **'+tTyp+'**'\n",
    "            \n",
    "    return pn.pane.Markdown(text, sizing_mode='stretch_width')"
   ]
  },
  {
   "cell_type": "code",
   "execution_count": null,
   "metadata": {},
   "outputs": [],
   "source": [
    "@pn.depends(rTrajTyp=rTrajTyp,slStep=slStep, slSpeed=slSpeed, xInput=xInput, yInput=yInput, slCRW=slCRW,selMetric=selMetric)\n",
    "def plot_rw(rTrajTyp, slStep, slSpeed, xInput, yInput, slCRW,selMetric):\n",
    "        \n",
    "    if rTrajTyp == 'BM':   \n",
    "        rw_df = BM_2d(n_steps=slStep, speed=slSpeed, s_x_pos=xInput, s_y_pos=yInput)\n",
    "    elif rTrajTyp == 'CRW':\n",
    "        rw_df = CRW_2d(n_steps=slStep, speed=slSpeed, s_x_pos=xInput, s_y_pos=yInput, crw_exponent=slCRW)  \n",
    "    elif rTrajTyp == 'LF':\n",
    "        rw_df = CRW_2d(n_steps=slStep, speed=slSpeed, s_x_pos=xInput, s_y_pos=yInput, crw_exponent=slCRW) \n",
    "    \n",
    "    metricTp = 'Path Lenght' if selMetric == 'PL' else 'Mean Squared Displacement'\n",
    "    \n",
    "    \n",
    "    metrics_df= rwMetrics(rw_df, selMetric)\n",
    "    column_titles=[f'{rTrajTyp} 3D Trajectory',f'{metricTp}']\n",
    "    \n",
    "    fig = make_subplots(cols=2,specs=[[{'type': 'scene'}, {'type': 'xy'}]]\n",
    "                        ,subplot_titles =column_titles\n",
    "                        ,column_widths=[.6,.4])\n",
    "       \n",
    "    fig.add_traces(\n",
    "        [\n",
    "        go.Scatter3d(\n",
    "            x=rw_df.x_pos,\n",
    "            y=rw_df.y_pos,\n",
    "            z=rw_df.index,\n",
    "            line_width=2,\n",
    "            line_color='#D19D01',\n",
    "            mode = 'lines'\n",
    "        ),\n",
    "        go.Scatter(\n",
    "            x = np.arange(len(metrics_df.M)),\n",
    "            y = metrics_df.M,\n",
    "            line_width = 2,\n",
    "            mode = 'lines',\n",
    "            showlegend = True\n",
    "        )], \n",
    "        rows=[1, 1],cols=[1, 2])   \n",
    "\n",
    "     #Return plot figure\n",
    "    return fig"
   ]
  },
  {
   "cell_type": "code",
   "execution_count": null,
   "metadata": {},
   "outputs": [],
   "source": [
    "bootstrap = pn.template.BootstrapTemplate(title='Random Walk Metrics: Path Length/MSD'\n",
    "                                          ,sidebar_width = 220\n",
    "                                          ,header_background='#00504C')\n",
    "\n",
    "bootstrap.sidebar.append(rTrajTyp)\n",
    "bootstrap.sidebar.append(slStep)\n",
    "bootstrap.sidebar.append(xInput)\n",
    "bootstrap.sidebar.append(yInput)\n",
    "bootstrap.sidebar.append(slSpeed)\n",
    "bootstrap.sidebar.append(dCRWSlider)\n",
    "bootstrap.sidebar.append(dLevySlider)\n",
    "bootstrap.sidebar.append(selMetric)\n",
    "\n",
    "bootstrap.main.append(\n",
    "    pn.Column(\n",
    "        pn.Row(dTitle, sizing_mode='stretch_width'),        \n",
    "        pn.Card(plot_rw, title= 'RW trajectory and metrics', sizing_mode='stretch_width',hide_header = True),\n",
    "        pn.Row(dSpecs, sizing_mode='stretch_width'),  \n",
    "                #hide_header = True)\n",
    "    )\n",
    ")\n",
    "\n",
    "bootstrap.show();"
   ]
  },
  {
   "cell_type": "code",
   "execution_count": null,
   "metadata": {},
   "outputs": [],
   "source": []
  }
 ],
 "metadata": {
  "colab": {
   "provenance": []
  },
  "kernelspec": {
   "display_name": "Python 3",
   "language": "python",
   "name": "python3"
  },
  "language_info": {
   "codemirror_mode": {
    "name": "ipython",
    "version": 3
   },
   "file_extension": ".py",
   "mimetype": "text/x-python",
   "name": "python",
   "nbconvert_exporter": "python",
   "pygments_lexer": "ipython3",
   "version": "3.7.6"
  }
 },
 "nbformat": 4,
 "nbformat_minor": 5
}
